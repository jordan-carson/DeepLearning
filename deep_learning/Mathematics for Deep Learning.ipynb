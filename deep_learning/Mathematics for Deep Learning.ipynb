{
 "cells": [
  {
   "cell_type": "markdown",
   "metadata": {},
   "source": [
    "# Derivatives\n",
    "\n",
    "\n",
    "### Derivative of a constant function\n",
    "\n",
    "The derivative of f(x) = c where c is a constant is given by\n",
    "\n",
    "$ f^\\prime (x) = 0 $\n",
    "\n",
    "**Example**\n",
    "\n",
    "$ f(x) = -10 $, then $ f^\\prime (x) = 0 $\n",
    "\n",
    "### Derivative of the power of two functions (Power Rule)\n",
    "\n",
    "The derivative of a power function. The derivative of $f(x) = x^r$ where r is a constant real number is\n",
    "\n",
    "$ f^\\prime(x) = r x^{r-1}$\n",
    "\n",
    "**Example**\n",
    "\n",
    "$ f(x) = x^{-2}$, then $ f^\\prime(x) = -2 x ^{-3} = \\frac{-2}{x^{3}} $\n",
    "\n",
    "### Derivative of a function multiplied by a constant\n",
    "\n",
    "The derivative of f(x) = cg(x) is given by\n",
    "\n",
    "$ f^\\prime{x} = cg^{\\prime}(x) $\n",
    "\n",
    "**Example**\n",
    "\n",
    "$ f(x) = 3x^3$\n",
    "let c = 3 and $g(x) = x^3$, then $ f^\\prime(x) = cg^\\prime(x) $\n",
    "\n",
    "$ = 3(3x^2) = 9x^2 $\n",
    "\n",
    "### Derivative of the sum of functions (Sum Rule) \n",
    "\n",
    "The derivative of $f(x) = g(x) + h(x)$ is given by\n",
    "\n",
    "$ f^\\prime(x) = g^\\prime(x) + h^\\prime(x) $\n",
    "\n",
    "**Example**\n",
    "\n",
    "$ f(x) = x^2 + 4 $\n",
    "\n",
    "let $g(x) = x^2$ and $h(x) = 4$, then $f^\\prime(x) = g^\\prime(x) + h^\\prime(x) = 2(x) + 0 = 2x$\n",
    "\n",
    "### Derivative of the difference of functions\n",
    "\n",
    "The derivative of $f(x) = g(x) - h(x) $ is given by\n",
    "\n",
    "$ f^\\prime(x) = g^\\prime(x) - h^\\prime(x) $\n",
    "\n",
    "**Example**\n",
    "\n",
    "$f(x) = x^3 - x^{-2} $\n",
    "\n",
    "let $g(x) = x^3$ and $h(x) = x^{-2}$, then\n",
    "\n",
    "$ f^\\prime(x) = g^\\prime(x) - h^\\prime(x) = 3x^2 - (-2x^{-3}) = 3x^2 + 2x^{-3} $\n",
    "\n",
    "### Derivative of the product of two functions (Product Rule)\n",
    "\n",
    "The derivative of $f(x) = g(x) h(x)$ is given by\n",
    "\n",
    "$ f^\\prime(x) = g(x) h^\\prime(x) + h(x) g^\\prime(x) $\n",
    "\n",
    "**Example**\n",
    "\n",
    "$ f(x) = (x^2 - 2x) (x-2) $ \n",
    "\n",
    "let $g(x) = (x^2 - 2x)$ and $h(x) = (x - 2)$, then\n",
    "\n",
    "$f^\\prime(x) = g(x)h^\\prime(x) + h(x)g^\\prime(x) = (x^2 - 2x)(1) + (x-2)(2x-2) $\n",
    "\n",
    "$= x^2 - 2x + 2x^2 - 6x + 4 = 3x^2 - 8x + 4$\n",
    "\n",
    "### Derivative of the quotient of two functions (Quotient Rule)\n",
    "\n",
    "The derivative of f(x) = g(x) / h(x) is given by\n",
    "\n",
    "$$ f^\\prime(x) = \\frac{(h(x)g^\\prime(x) - g(x)h^\\prime(x))}{h(x)^2} $$\n",
    "\n",
    "**Example**\n",
    "\n",
    "$f(x) = \\frac{(x-2)}{(x+1)} $\n",
    "\n",
    "let $g(x) = (x-2) $ and $h(x) = (x+1)$, then\n",
    "\n",
    "$$f^\\prime(x) = \\frac{(h(x)g^\\prime(x) - g(x)h^\\prime(x))}{h(x)^2}$$\n",
    "\n",
    "$$ = \\frac{(x+1)(1) - (x-2)(1)}{(x+1)^2} $$\n",
    "\n",
    "$$ = \\frac{3}{(x+1)^2} $$"
   ]
  },
  {
   "cell_type": "markdown",
   "metadata": {},
   "source": [
    "## Chain Rule\n",
    "\n",
    "\n",
    "The chain rule says, if you have a variable $x$ on a function $f$ that you want to apply to $x$ to get $f(x)$ which were going to call \n",
    "\n",
    "$A = f(x)$\n",
    "\n",
    "then another function g which you apply to f(x) to get\n",
    "\n",
    "$ B = g \\circ f(x) $\n",
    "\n",
    "if you want to find the partial derivative of B with respect to x, thats just a partial derivative of B with respect to A times the partial derivative of A with respect to x. \n",
    "\n",
    "$$ \\frac{\\partial B}{\\partial x} = \\frac{\\partial B}{\\partial A} \\frac{\\partial A}{\\partial x}$$\n",
    "\n",
    "when composing functions, that derivatives just multiply, and this is going to be super useful for us because feed forwarding is literally composing a bunch of functions, and back propagation is literally taking the derivative at each piece, and since taking the derivative of a composition is the same as multiplying the partial derivatives, then all we're going to do is multiply a bunch of partial derivatives to get what we want. "
   ]
  },
  {
   "cell_type": "markdown",
   "metadata": {},
   "source": [
    "## Popular Derivatives\n",
    "\n",
    "$ \\frac{d}{dx} \\sqrt x = \\frac{1}{2\\sqrt{x}}$ \n",
    "\n",
    "$ \\frac{d}{dx} \\ln x = \\frac{1}{x}$\n",
    "\n",
    "$ \\frac{d}{dx} \\log x = \\frac{1}{x}$\n",
    "\n",
    "$ \\frac{d}{dx} \\sin x = \\cos x$\n",
    "\n",
    "$ \\frac{d}{dx} \\cos x = - \\sin x$\n",
    "\n",
    "$ \\frac{d}{dx} \\tan x = \\sec^2 x$\n",
    "\n"
   ]
  },
  {
   "cell_type": "markdown",
   "metadata": {
    "collapsed": true
   },
   "source": [
    "## Examples\n",
    "\n",
    "**Chain Rule**:\n",
    "\n",
    "This can be used whenever your function is a composition of more than 1 function. \n",
    "$ h(x) = (\\sin x)^2$\n",
    "\n",
    "If we are going to take the derivative of $x^2$ with respect to $x$. it would be\n",
    "\n",
    "$ \\frac{d}{dx} [x^2] $ = $2x$\n",
    "\n",
    "another example \n",
    "\n",
    "$ \\frac{d}{da} [a^2] $ = $2a$\n",
    "\n",
    "Now we are only replacing $x$, or $a$ with $(\\sin x)$\n",
    "\n",
    "$\\frac{d}{d(\\sin x)} [(\\sin x)^2] $ = $2\\sin x$\n",
    "\n",
    "Derivative of the outer function with respect to sin of x (the inner function). times the derivative of sine of x with respect to x. \n",
    "\n",
    "this would return\n",
    "\n",
    "$ \\frac{d}{dx)} (\\sin x)  = \\cos x$\n",
    "\n",
    "so $ h^\\prime(x) = \\frac{d}{dx} = 2\\sin x \\cos x$\n",
    "\n",
    "Derivative of the outer function with respect to the inner, multiplied times the inner function with respect to x.\n",
    "\n",
    "OR, can think of it as,\n",
    "\n",
    "$ \\frac{d}{dx}[f(g(x))] = f^\\prime (g(x)) \\times g^\\prime (x) $\n",
    "\n",
    "\"F prime of G(x) times g of x\"\n"
   ]
  },
  {
   "cell_type": "markdown",
   "metadata": {},
   "source": [
    "$ \\frac{d}{dx)} (\\sin x)  = \\cos x$"
   ]
  },
  {
   "cell_type": "markdown",
   "metadata": {},
   "source": [
    "## Common Misconceptions\n",
    "\n",
    "$ \\frac{d}{dx}[f(g(x))] $\n",
    "\n",
    "With the chain rule, when your dealing with transcendental functions is just a fancy word for these functions like trigonometric functions like $ \\sin x$ or logarithmic functions like $ \\ln x$ that don't use standard algebraic operations. But when you see transcendental functions like this or compositions of them, many people confuse this with the product of functions. \n",
    "\n",
    "this is a composition\n",
    "$ \\frac{d}{dx}[\\ln (\\sin(x)] $\n",
    "\n",
    "So to do this we need to take the derivative of the outer with respect to the inner.\n",
    "\n",
    "$ f^\\prime (g(x)) = \\frac{1}{\\sin x}$\n",
    "\n",
    "$g(x) = \\sin x$\n",
    "\n",
    "$f^\\prime (x) = 1 / x $\n",
    "\n",
    "$g^\\prime (x) = \\cos x $\n",
    "\n",
    "which gives us our \n",
    "\n",
    "$ = \\frac{1}{\\sin x} \\times \\cos x$\n",
    "\n",
    "$ = \\frac{\\cos x}{\\sin x} $\n",
    "\n"
   ]
  },
  {
   "cell_type": "markdown",
   "metadata": {},
   "source": [
    "**Question**\n",
    "\n",
    "Is $h(x)=\\cos^2(x)$ a composite function? If so, what are the \"inner\" and \"outer\" functions?"
   ]
  },
  {
   "cell_type": "markdown",
   "metadata": {},
   "source": [
    "**Answer**\n",
    "\n",
    "Yes, $h(x)$ is composite. The \"inner\" function is $x^2$ and the \"outer\" function is $\\cos(x)$"
   ]
  },
  {
   "cell_type": "code",
   "execution_count": 10,
   "metadata": {},
   "outputs": [
    {
     "ename": "AttributeError",
     "evalue": "'builtin_function_or_method' object has no attribute 'diff'",
     "output_type": "error",
     "traceback": [
      "\u001b[0;31m---------------------------------------------------------------------------\u001b[0m",
      "\u001b[0;31mAttributeError\u001b[0m                            Traceback (most recent call last)",
      "\u001b[0;32m<ipython-input-10-6fae9c9ec5d0>\u001b[0m in \u001b[0;36m<module>\u001b[0;34m()\u001b[0m\n\u001b[1;32m      2\u001b[0m \u001b[0mx\u001b[0m \u001b[0;34m=\u001b[0m \u001b[0mSymbol\u001b[0m\u001b[0;34m(\u001b[0m\u001b[0;34m'x'\u001b[0m\u001b[0;34m)\u001b[0m\u001b[0;34m\u001b[0m\u001b[0;34m\u001b[0m\u001b[0m\n\u001b[1;32m      3\u001b[0m \u001b[0my\u001b[0m \u001b[0;34m=\u001b[0m \u001b[0mcos\u001b[0m\u001b[0;34m\u001b[0m\u001b[0;34m\u001b[0m\u001b[0m\n\u001b[0;32m----> 4\u001b[0;31m \u001b[0myp\u001b[0m \u001b[0;34m=\u001b[0m \u001b[0my\u001b[0m\u001b[0;34m.\u001b[0m\u001b[0mdiff\u001b[0m\u001b[0;34m(\u001b[0m\u001b[0mx\u001b[0m\u001b[0;34m)\u001b[0m\u001b[0;34m\u001b[0m\u001b[0;34m\u001b[0m\u001b[0m\n\u001b[0m\u001b[1;32m      5\u001b[0m \u001b[0myp\u001b[0m\u001b[0;34m\u001b[0m\u001b[0;34m\u001b[0m\u001b[0m\n",
      "\u001b[0;31mAttributeError\u001b[0m: 'builtin_function_or_method' object has no attribute 'diff'"
     ]
    }
   ],
   "source": [
    "from sympy import Symbol\n",
    "x = Symbol('x')\n",
    "y = cos\n",
    "yp = y.diff(x)\n",
    "yp"
   ]
  },
  {
   "cell_type": "code",
   "execution_count": 4,
   "metadata": {
    "collapsed": true
   },
   "outputs": [],
   "source": [
    "def derivative(func, x, h = None):\n",
    "    if h is None:\n",
    "        # Note the hard coded value found here is the square root of the\n",
    "        # floating point precision, which can be found from the function\n",
    "        # call np.sqrt(np.finfo(float).eps).\n",
    "        h = 1.49011611938477e-08\n",
    "    xph = x + h\n",
    "    dx = xph - x\n",
    "    return (func(xph) - func(x)) / dx"
   ]
  },
  {
   "cell_type": "code",
   "execution_count": 9,
   "metadata": {},
   "outputs": [
    {
     "data": {
      "text/plain": [
       "-0.8414709866046906"
      ]
     },
     "execution_count": 9,
     "metadata": {},
     "output_type": "execute_result"
    }
   ],
   "source": [
    "from math import cos, sin, radians\n",
    "derivative(cos, 1)"
   ]
  },
  {
   "cell_type": "code",
   "execution_count": null,
   "metadata": {
    "collapsed": true
   },
   "outputs": [],
   "source": []
  }
 ],
 "metadata": {
  "kernelspec": {
   "display_name": "Python 3",
   "language": "python",
   "name": "python3"
  },
  "language_info": {
   "codemirror_mode": {
    "name": "ipython",
    "version": 3
   },
   "file_extension": ".py",
   "mimetype": "text/x-python",
   "name": "python",
   "nbconvert_exporter": "python",
   "pygments_lexer": "ipython3",
   "version": "3.6.8"
  }
 },
 "nbformat": 4,
 "nbformat_minor": 2
}
