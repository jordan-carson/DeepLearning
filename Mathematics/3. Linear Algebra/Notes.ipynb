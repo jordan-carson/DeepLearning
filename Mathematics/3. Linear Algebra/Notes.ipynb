{
 "cells": [
  {
   "cell_type": "markdown",
   "metadata": {
    "collapsed": true
   },
   "source": [
    "# Linear Algebra\n"
   ]
  },
  {
   "cell_type": "markdown",
   "metadata": {},
   "source": [
    "## Basic Properties of Matrix and Vectors\n",
    "\n",
    "### Scalar Multiplication\n",
    "\n",
    "### Linear Transformation\n",
    "\n",
    "### Transpose\n",
    "\n",
    "### Conjugate \n",
    "\n",
    "### Rank\n",
    "\n",
    "### Determinant\n",
    "\n"
   ]
  },
  {
   "cell_type": "markdown",
   "metadata": {},
   "source": [
    "## Special Matrices\n",
    "\n",
    "### Square Matrix\n",
    "\n",
    "### Identity Matrix\n",
    "\n",
    "### Triangular Matrix\n",
    "\n",
    "### Idea about Spare and Dense Matrix\n",
    "\n",
    "### Unit Vectors\n",
    "\n",
    "### Symmetric Matrix\n",
    "\n",
    "### Hermitian \n",
    "\n",
    "### Skew-Hermitian \n",
    "\n",
    "### Unitary Matrices"
   ]
  },
  {
   "cell_type": "markdown",
   "metadata": {},
   "source": [
    "## Matrix Facorization concept/LU Decomposition\n",
    "\n",
    "### Gaussian/Gauss-Jordan Elimination\n",
    "\n",
    "### Solving Ax=b Linear system of equation\n"
   ]
  },
  {
   "cell_type": "markdown",
   "metadata": {},
   "source": [
    "### Vector Space\n",
    "\n",
    "### Basis\n",
    "\n",
    "### Span \n",
    "\n",
    "### Orthogonality\n",
    "\n",
    "### Orthonormality\n",
    "\n",
    "### Linear Least Square\n"
   ]
  },
  {
   "cell_type": "markdown",
   "metadata": {},
   "source": [
    "### Eigenvalues\n",
    "\n",
    "### Eigenvectors\n",
    "\n",
    "### Diagonalization\n",
    "\n",
    "### Singular Value Decomposition (SVD)"
   ]
  },
  {
   "cell_type": "markdown",
   "metadata": {},
   "source": [
    "## Eigenvalues / Eigenvectors\n",
    "\n",
    "**What is it?**\n",
    "\n",
    "For a particular matrix, vectors whose direction remains unchanged even after applying a linear transformation with the matrix are called **Eigenvectors**, for that particular matrix. The scaled up amount usually denoted as $\\lambda$ is called the **Eigenvalue**. \n",
    "\n",
    "#### Example: Multiplying a 2-dimension vector with a 2*2 matrix\n"
   ]
  },
  {
   "cell_type": "code",
   "execution_count": 2,
   "metadata": {},
   "outputs": [
    {
     "data": {
      "text/plain": [
       "array([[1, 4],\n",
       "       [0, 6]])"
      ]
     },
     "execution_count": 2,
     "metadata": {},
     "output_type": "execute_result"
    }
   ],
   "source": [
    "import numpy as np\n",
    "np.array([[1,2],[0,3]]) * np.array([1, 2])"
   ]
  },
  {
   "cell_type": "code",
   "execution_count": null,
   "metadata": {
    "collapsed": true
   },
   "outputs": [],
   "source": []
  }
 ],
 "metadata": {
  "kernelspec": {
   "display_name": "Python 3",
   "language": "python",
   "name": "python3"
  },
  "language_info": {
   "codemirror_mode": {
    "name": "ipython",
    "version": 3
   },
   "file_extension": ".py",
   "mimetype": "text/x-python",
   "name": "python",
   "nbconvert_exporter": "python",
   "pygments_lexer": "ipython3",
   "version": "3.6.8"
  }
 },
 "nbformat": 4,
 "nbformat_minor": 2
}
